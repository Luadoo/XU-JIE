{
  "nbformat": 4,
  "nbformat_minor": 0,
  "metadata": {
    "colab": {
      "name": "演算练习.ipynb",
      "provenance": [],
      "collapsed_sections": [],
      "include_colab_link": true
    },
    "kernelspec": {
      "name": "python3",
      "display_name": "Python 3"
    },
    "accelerator": "GPU"
  },
  "cells": [
    {
      "cell_type": "markdown",
      "metadata": {
        "id": "view-in-github",
        "colab_type": "text"
      },
      "source": [
        "<a href=\"https://colab.research.google.com/github/Luadoo/XU-JIE/blob/master/%E6%BC%94%E7%AE%97%E7%BB%83%E4%B9%A0.ipynb\" target=\"_parent\"><img src=\"https://colab.research.google.com/assets/colab-badge.svg\" alt=\"Open In Colab\"/></a>"
      ]
    },
    {
      "cell_type": "markdown",
      "metadata": {
        "id": "FyFAXbWfbXRY"
      },
      "source": [
        ""
      ]
    },
    {
      "cell_type": "code",
      "metadata": {
        "id": "Ot6POgq86YLO",
        "colab": {
          "base_uri": "https://localhost:8080/",
          "height": 80
        },
        "outputId": "1f7658da-72c0-4174-d543-742865fcea7f"
      },
      "source": [
        "import tensorflow as tf\n",
        "device_name = tf.test.gpu_device_name()\n",
        "if device_name != '/device:GPU:0':\n",
        "  raise SystemError('GPU device not found')\n",
        "print('Found GPU at: {}'.format(device_name))"
      ],
      "execution_count": null,
      "outputs": [
        {
          "output_type": "display_data",
          "data": {
            "text/html": [
              "<p style=\"color: red;\">\n",
              "The default version of TensorFlow in Colab will soon switch to TensorFlow 2.x.<br>\n",
              "We recommend you <a href=\"https://www.tensorflow.org/guide/migrate\" target=\"_blank\">upgrade</a> now \n",
              "or ensure your notebook will continue to use TensorFlow 1.x via the <code>%tensorflow_version 1.x</code> magic:\n",
              "<a href=\"https://colab.research.google.com/notebooks/tensorflow_version.ipynb\" target=\"_blank\">more info</a>.</p>\n"
            ],
            "text/plain": [
              "<IPython.core.display.HTML object>"
            ]
          },
          "metadata": {
            "tags": []
          }
        },
        {
          "output_type": "stream",
          "text": [
            "Found GPU at: /device:GPU:0\n"
          ],
          "name": "stdout"
        }
      ]
    },
    {
      "cell_type": "code",
      "metadata": {
        "id": "yLUgkIYIzn5C",
        "colab": {
          "base_uri": "https://localhost:8080/",
          "height": 34
        },
        "outputId": "48a17be1-426a-4c8f-e0f9-b2ebba1de794"
      },
      "source": [
        "def func(x, y):\n",
        "  z =x + y\n",
        "  return z\n",
        "\n",
        "num1 = 1 \n",
        "num2 = 2\n",
        "num3 = func(num1, num2)\n",
        "print(\"num3=\", num3)\n"
      ],
      "execution_count": null,
      "outputs": [
        {
          "output_type": "stream",
          "text": [
            "num3= 3\n"
          ],
          "name": "stdout"
        }
      ]
    },
    {
      "cell_type": "markdown",
      "metadata": {
        "id": "lPMcGR2gbWoY"
      },
      "source": [
        ""
      ]
    },
    {
      "cell_type": "code",
      "metadata": {
        "id": "KS5YiIPB35Xx",
        "colab": {
          "base_uri": "https://localhost:8080/",
          "height": 255
        },
        "outputId": "ca54d9dd-4c67-40cb-d22f-f7c9359fa06d"
      },
      "source": [
        "import numpy as np\n",
        "\n",
        "array = np.array([[1,2],[3,4],[5,6]])\n",
        "print(\"array =\",array)\n",
        "\n",
        "print(\"요소의 자료형:\",array.dtype)\n",
        "print(\"요소 수:\",array.size)\n",
        "print(\"차원 수:\",array.ndim)\n",
        "print(\"각 차원의 요소 수:\",array.shape)\n",
        "\n",
        "div_array_1 = array / 2\n",
        "print(\"div_array_1\",div_array_1)\n",
        "\n",
        "div_array_2 = array / 2\n",
        "print(\"div-array_2\",div_array_2)\n",
        "\n",
        "flatten_array = array.flatten()\n",
        "print(\"flatten_array\", flatten_array)"
      ],
      "execution_count": null,
      "outputs": [
        {
          "output_type": "stream",
          "text": [
            "array = [[1 2]\n",
            " [3 4]\n",
            " [5 6]]\n",
            "요소의 자료형: int64\n",
            "요소 수: 6\n",
            "차원 수: 2\n",
            "각 차원의 요소 수: (3, 2)\n",
            "div_array_1 [[0.5 1. ]\n",
            " [1.5 2. ]\n",
            " [2.5 3. ]]\n",
            "div-array_2 [[0.5 1. ]\n",
            " [1.5 2. ]\n",
            " [2.5 3. ]]\n",
            "flatten_array [1 2 3 4 5 6]\n"
          ],
          "name": "stdout"
        }
      ]
    },
    {
      "cell_type": "code",
      "metadata": {
        "id": "zEyrzVa_7-Cq",
        "colab": {
          "base_uri": "https://localhost:8080/",
          "height": 204
        },
        "outputId": "cf0d330f-71cd-4aa3-82b9-f4cff1743c6c"
      },
      "source": [
        "import itertools                #iterable  迭代\n",
        "list = [1,2,3,4]\n",
        "for x in itertools.combinations(list,2):\n",
        "  print(\"x=\", x)\n",
        "\n",
        "for x in itertools.chain(list,[\"a\"]):\n",
        "  print(\"x=\", x)"
      ],
      "execution_count": null,
      "outputs": [
        {
          "output_type": "stream",
          "text": [
            "x= (1, 2)\n",
            "x= (1, 3)\n",
            "x= (1, 4)\n",
            "x= (2, 3)\n",
            "x= (2, 4)\n",
            "x= (3, 4)\n",
            "x= 1\n",
            "x= 2\n",
            "x= 3\n",
            "x= 4\n",
            "x= a\n"
          ],
          "name": "stdout"
        }
      ]
    },
    {
      "cell_type": "code",
      "metadata": {
        "id": "xsOKZxrvg4q7"
      },
      "source": [
        "first_num = input(\"请输入第一个数字：\")\n",
        "operation = input(\"请输入运算符：\")\n",
        "second_num = input(\"请输入第二个数字：\")\n",
        "\n",
        "first_num = float(first_num)\n",
        "second_num = float(second_num)\n",
        "\n",
        "if operation == \"+\":\n",
        "    result = first_num + second_num\n",
        "\n",
        "result = str(result)\n",
        "print(\"执行结果:\" + result)"
      ],
      "execution_count": null,
      "outputs": []
    },
    {
      "cell_type": "code",
      "metadata": {
        "id": "-ABZiWB3R9Ig"
      },
      "source": [
        "import pandas as pd\n",
        "import numpy as np\n",
        "from sklearn.cluster import KMeans\n",
        "import matplotlib.pyplot as plt\n",
        "import seaborn as sns\n",
        "%matplotlib inline"
      ],
      "execution_count": null,
      "outputs": []
    },
    {
      "cell_type": "code",
      "metadata": {
        "id": "HVdBLEwjSCzI"
      },
      "source": [
        "df = pd.DataFrame(columns=['x', 'y'])"
      ],
      "execution_count": null,
      "outputs": []
    },
    {
      "cell_type": "code",
      "metadata": {
        "id": "Yb9fSJfTSIMv"
      },
      "source": [
        "df.loc[0] = [3,1]\n",
        "df.loc[1] = [4,2]\n",
        "df.loc[2] = [3,9]\n",
        "df.loc[3] = [4,8]\n",
        "df.loc[4] = [9,5]\n",
        "df.loc[5] = [9,6]\n",
        "df.loc[6] = [11,5]\n",
        "df.loc[7] = [11,6]\n",
        "df.loc[8] = [15,8]\n",
        "df.loc[9] = [15,2]\n",
        "df.loc[10] = [16,1]\n",
        "df.loc[11] = [16,9]"
      ],
      "execution_count": null,
      "outputs": []
    },
    {
      "cell_type": "code",
      "metadata": {
        "id": "vmlE38ASSMQI",
        "colab": {
          "base_uri": "https://localhost:8080/",
          "height": 407
        },
        "outputId": "23c36f19-7975-4a54-a644-3e6a8a053c3c"
      },
      "source": [
        "df.head(20)"
      ],
      "execution_count": null,
      "outputs": [
        {
          "output_type": "execute_result",
          "data": {
            "text/html": [
              "<div>\n",
              "<style scoped>\n",
              "    .dataframe tbody tr th:only-of-type {\n",
              "        vertical-align: middle;\n",
              "    }\n",
              "\n",
              "    .dataframe tbody tr th {\n",
              "        vertical-align: top;\n",
              "    }\n",
              "\n",
              "    .dataframe thead th {\n",
              "        text-align: right;\n",
              "    }\n",
              "</style>\n",
              "<table border=\"1\" class=\"dataframe\">\n",
              "  <thead>\n",
              "    <tr style=\"text-align: right;\">\n",
              "      <th></th>\n",
              "      <th>x</th>\n",
              "      <th>y</th>\n",
              "    </tr>\n",
              "  </thead>\n",
              "  <tbody>\n",
              "    <tr>\n",
              "      <th>0</th>\n",
              "      <td>3</td>\n",
              "      <td>1</td>\n",
              "    </tr>\n",
              "    <tr>\n",
              "      <th>1</th>\n",
              "      <td>4</td>\n",
              "      <td>2</td>\n",
              "    </tr>\n",
              "    <tr>\n",
              "      <th>2</th>\n",
              "      <td>3</td>\n",
              "      <td>9</td>\n",
              "    </tr>\n",
              "    <tr>\n",
              "      <th>3</th>\n",
              "      <td>4</td>\n",
              "      <td>8</td>\n",
              "    </tr>\n",
              "    <tr>\n",
              "      <th>4</th>\n",
              "      <td>9</td>\n",
              "      <td>5</td>\n",
              "    </tr>\n",
              "    <tr>\n",
              "      <th>5</th>\n",
              "      <td>9</td>\n",
              "      <td>6</td>\n",
              "    </tr>\n",
              "    <tr>\n",
              "      <th>6</th>\n",
              "      <td>11</td>\n",
              "      <td>5</td>\n",
              "    </tr>\n",
              "    <tr>\n",
              "      <th>7</th>\n",
              "      <td>11</td>\n",
              "      <td>6</td>\n",
              "    </tr>\n",
              "    <tr>\n",
              "      <th>8</th>\n",
              "      <td>15</td>\n",
              "      <td>8</td>\n",
              "    </tr>\n",
              "    <tr>\n",
              "      <th>9</th>\n",
              "      <td>15</td>\n",
              "      <td>2</td>\n",
              "    </tr>\n",
              "    <tr>\n",
              "      <th>10</th>\n",
              "      <td>16</td>\n",
              "      <td>1</td>\n",
              "    </tr>\n",
              "    <tr>\n",
              "      <th>11</th>\n",
              "      <td>16</td>\n",
              "      <td>9</td>\n",
              "    </tr>\n",
              "  </tbody>\n",
              "</table>\n",
              "</div>"
            ],
            "text/plain": [
              "     x  y\n",
              "0    3  1\n",
              "1    4  2\n",
              "2    3  9\n",
              "3    4  8\n",
              "4    9  5\n",
              "5    9  6\n",
              "6   11  5\n",
              "7   11  6\n",
              "8   15  8\n",
              "9   15  2\n",
              "10  16  1\n",
              "11  16  9"
            ]
          },
          "metadata": {
            "tags": []
          },
          "execution_count": 6
        }
      ]
    },
    {
      "cell_type": "code",
      "metadata": {
        "id": "L3ix1psUSST5",
        "colab": {
          "base_uri": "https://localhost:8080/",
          "height": 472
        },
        "outputId": "e02b2215-2f99-491e-aa49-fcaa84ebc6aa"
      },
      "source": [
        "\n",
        "# visualize data point\n",
        "sns.lmplot('x', 'y', data=df, fit_reg=False, scatter_kws={\"s\": 200}) # x-axis, y-axis, data, no line, marker size\n",
        "\n",
        "# title\n",
        "plt.title('kmean plot')\n",
        "\n",
        "# x-axis label\n",
        "plt.xlabel('x')\n",
        "\n",
        "# y-axis label\n",
        "plt.ylabel('y')"
      ],
      "execution_count": null,
      "outputs": [
        {
          "output_type": "stream",
          "text": [
            "/usr/local/lib/python3.6/dist-packages/seaborn/_decorators.py:43: FutureWarning: Pass the following variables as keyword args: x, y. From version 0.12, the only valid positional argument will be `data`, and passing other arguments without an explicit keyword will result in an error or misinterpretation.\n",
            "  FutureWarning\n"
          ],
          "name": "stderr"
        },
        {
          "output_type": "execute_result",
          "data": {
            "text/plain": [
              "Text(16.299999999999997, 0.5, 'y')"
            ]
          },
          "metadata": {
            "tags": []
          },
          "execution_count": 7
        },
        {
          "output_type": "display_data",
          "data": {
            "image/png": "[encoded data removed]",
            "text/plain": [
              "<Figure size 360x360 with 1 Axes>"
            ]
          },
          "metadata": {
            "tags": [],
            "needs_background": "light"
          }
        }
      ]
    },
    {
      "cell_type": "markdown",
      "metadata": {
        "id": "O4HCks-qKvx1"
      },
      "source": [
        "# 新段落"
      ]
    },
    {
      "cell_type": "code",
      "metadata": {
        "id": "vtSa236BTkeN"
      },
      "source": [
        "\n",
        "# convert dataframe to numpy array\n",
        "data_points = df.values"
      ],
      "execution_count": null,
      "outputs": []
    },
    {
      "cell_type": "code",
      "metadata": {
        "id": "XWc8kBMHTnTz"
      },
      "source": [
        "kmeans = KMeans(n_clusters=3).fit(data_points)"
      ],
      "execution_count": null,
      "outputs": []
    },
    {
      "cell_type": "code",
      "metadata": {
        "id": "uvFaBIPCToPt",
        "colab": {
          "base_uri": "https://localhost:8080/"
        },
        "outputId": "87d48334-d9e5-451b-8c61-ffea6f2f3361"
      },
      "source": [
        "# cluster id for each data point\n",
        "kmeans.labels_"
      ],
      "execution_count": null,
      "outputs": [
        {
          "output_type": "execute_result",
          "data": {
            "text/plain": [
              "array([2, 2, 2, 2, 0, 0, 0, 0, 1, 1, 1, 1], dtype=int32)"
            ]
          },
          "metadata": {
            "tags": []
          },
          "execution_count": 10
        }
      ]
    },
    {
      "cell_type": "code",
      "metadata": {
        "id": "YYQaJC7QTuT_",
        "colab": {
          "base_uri": "https://localhost:8080/"
        },
        "outputId": "e0395977-d8f5-4ce0-b45c-13879a32e034"
      },
      "source": [
        "# this is final centroids position\n",
        "kmeans.cluster_centers_"
      ],
      "execution_count": null,
      "outputs": [
        {
          "output_type": "execute_result",
          "data": {
            "text/plain": [
              "array([[10. ,  5.5],\n",
              "       [15.5,  5. ],\n",
              "       [ 3.5,  5. ]])"
            ]
          },
          "metadata": {
            "tags": []
          },
          "execution_count": 11
        }
      ]
    },
    {
      "cell_type": "code",
      "metadata": {
        "id": "JTqbCfgeTxqv"
      },
      "source": [
        "\n",
        "df['cluster_id'] = kmeans.labels_"
      ],
      "execution_count": null,
      "outputs": []
    },
    {
      "cell_type": "code",
      "metadata": {
        "id": "SFy9MOHtT1Hn",
        "colab": {
          "base_uri": "https://localhost:8080/",
          "height": 407
        },
        "outputId": "272b6cfc-8785-467b-9551-72b54c30a056"
      },
      "source": [
        "df.head(12)"
      ],
      "execution_count": null,
      "outputs": [
        {
          "output_type": "execute_result",
          "data": {
            "text/html": [
              "<div>\n",
              "<style scoped>\n",
              "    .dataframe tbody tr th:only-of-type {\n",
              "        vertical-align: middle;\n",
              "    }\n",
              "\n",
              "    .dataframe tbody tr th {\n",
              "        vertical-align: top;\n",
              "    }\n",
              "\n",
              "    .dataframe thead th {\n",
              "        text-align: right;\n",
              "    }\n",
              "</style>\n",
              "<table border=\"1\" class=\"dataframe\">\n",
              "  <thead>\n",
              "    <tr style=\"text-align: right;\">\n",
              "      <th></th>\n",
              "      <th>x</th>\n",
              "      <th>y</th>\n",
              "      <th>cluster_id</th>\n",
              "    </tr>\n",
              "  </thead>\n",
              "  <tbody>\n",
              "    <tr>\n",
              "      <th>0</th>\n",
              "      <td>3</td>\n",
              "      <td>1</td>\n",
              "      <td>2</td>\n",
              "    </tr>\n",
              "    <tr>\n",
              "      <th>1</th>\n",
              "      <td>4</td>\n",
              "      <td>2</td>\n",
              "      <td>2</td>\n",
              "    </tr>\n",
              "    <tr>\n",
              "      <th>2</th>\n",
              "      <td>3</td>\n",
              "      <td>9</td>\n",
              "      <td>2</td>\n",
              "    </tr>\n",
              "    <tr>\n",
              "      <th>3</th>\n",
              "      <td>4</td>\n",
              "      <td>8</td>\n",
              "      <td>2</td>\n",
              "    </tr>\n",
              "    <tr>\n",
              "      <th>4</th>\n",
              "      <td>9</td>\n",
              "      <td>5</td>\n",
              "      <td>0</td>\n",
              "    </tr>\n",
              "    <tr>\n",
              "      <th>5</th>\n",
              "      <td>9</td>\n",
              "      <td>6</td>\n",
              "      <td>0</td>\n",
              "    </tr>\n",
              "    <tr>\n",
              "      <th>6</th>\n",
              "      <td>11</td>\n",
              "      <td>5</td>\n",
              "      <td>0</td>\n",
              "    </tr>\n",
              "    <tr>\n",
              "      <th>7</th>\n",
              "      <td>11</td>\n",
              "      <td>6</td>\n",
              "      <td>0</td>\n",
              "    </tr>\n",
              "    <tr>\n",
              "      <th>8</th>\n",
              "      <td>15</td>\n",
              "      <td>8</td>\n",
              "      <td>1</td>\n",
              "    </tr>\n",
              "    <tr>\n",
              "      <th>9</th>\n",
              "      <td>15</td>\n",
              "      <td>2</td>\n",
              "      <td>1</td>\n",
              "    </tr>\n",
              "    <tr>\n",
              "      <th>10</th>\n",
              "      <td>16</td>\n",
              "      <td>1</td>\n",
              "      <td>1</td>\n",
              "    </tr>\n",
              "    <tr>\n",
              "      <th>11</th>\n",
              "      <td>16</td>\n",
              "      <td>9</td>\n",
              "      <td>1</td>\n",
              "    </tr>\n",
              "  </tbody>\n",
              "</table>\n",
              "</div>"
            ],
            "text/plain": [
              "     x  y  cluster_id\n",
              "0    3  1           2\n",
              "1    4  2           2\n",
              "2    3  9           2\n",
              "3    4  8           2\n",
              "4    9  5           0\n",
              "5    9  6           0\n",
              "6   11  5           0\n",
              "7   11  6           0\n",
              "8   15  8           1\n",
              "9   15  2           1\n",
              "10  16  1           1\n",
              "11  16  9           1"
            ]
          },
          "metadata": {
            "tags": []
          },
          "execution_count": 13
        }
      ]
    },
    {
      "cell_type": "code",
      "metadata": {
        "id": "0u7dNZQbT4yn",
        "colab": {
          "base_uri": "https://localhost:8080/",
          "height": 472
        },
        "outputId": "eb8341a3-d411-4c27-c4c3-48ed42ec2a85"
      },
      "source": [
        "sns.lmplot('x', 'y', data=df, fit_reg=False,  # x-axis, y-axis, data, no line\n",
        "           scatter_kws={\"s\": 150}, # marker size\n",
        "           hue=\"cluster_id\") # color\n",
        "\n",
        "# title\n",
        "plt.title('after kmean clustering')"
      ],
      "execution_count": null,
      "outputs": [
        {
          "output_type": "stream",
          "text": [
            "/usr/local/lib/python3.6/dist-packages/seaborn/_decorators.py:43: FutureWarning: Pass the following variables as keyword args: x, y. From version 0.12, the only valid positional argument will be `data`, and passing other arguments without an explicit keyword will result in an error or misinterpretation.\n",
            "  FutureWarning\n"
          ],
          "name": "stderr"
        },
        {
          "output_type": "execute_result",
          "data": {
            "text/plain": [
              "Text(0.5, 1.0, 'after kmean clustering')"
            ]
          },
          "metadata": {
            "tags": []
          },
          "execution_count": 14
        },
        {
          "output_type": "display_data",
          "data": {
            "image/png": "[encoded data removed]",
            "text/plain": [
              "<Figure size 416.375x360 with 1 Axes>"
            ]
          },
          "metadata": {
            "tags": [],
            "needs_background": "light"
          }
        }
      ]
    },
    {
      "cell_type": "code",
      "metadata": {
        "id": "GgTiPKvBJohL"
      },
      "source": [
        "from random import randint"
      ],
      "execution_count": null,
      "outputs": []
    },
    {
      "cell_type": "markdown",
      "metadata": {
        "id": "SDdyHtT943Un"
      },
      "source": [
        "猜数字大小："
      ]
    },
    {
      "cell_type": "code",
      "metadata": {
        "id": "1qkhUVqoZo-8",
        "colab": {
          "base_uri": "https://localhost:8080/",
          "height": 187
        },
        "outputId": "48d77d21-1fd6-4a98-eae6-7da0a811869f"
      },
      "source": [
        "x = randint(0, 10)\n",
        "for count in range(5):\n",
        "  digit = int(input('Please input a number between 0~10:'))\n",
        "  if digit == x :\n",
        "      print('Bingo!')\n",
        "  elif digit > x:\n",
        "      print('Too large, please try again.')\n",
        "  else:\n",
        "      print('Too small, please try again.')\n",
        "     \n",
        "\n",
        " "
      ],
      "execution_count": null,
      "outputs": [
        {
          "output_type": "stream",
          "text": [
            "Please input a number between 0~10:9\n",
            "Bingo!\n",
            "Please input a number between 0~10:5\n",
            "Too small, please try again.\n",
            "Please input a number between 0~10:6\n",
            "Too small, please try again.\n",
            "Please input a number between 0~10:7\n",
            "Too small, please try again.\n",
            "Please input a number between 0~10:9\n",
            "Bingo!\n"
          ],
          "name": "stdout"
        }
      ]
    },
    {
      "cell_type": "markdown",
      "metadata": {
        "id": "s8iRpbOF4ssU"
      },
      "source": [
        "一块钱换算2分5分的总计数方式多少种："
      ]
    },
    {
      "cell_type": "code",
      "metadata": {
        "id": "psHlye2yafiA",
        "colab": {
          "base_uri": "https://localhost:8080/",
          "height": 34
        },
        "outputId": "5e50c6b5-2fcf-4ca1-fd91-72401fdc8571"
      },
      "source": [
        "i, j, k = 0, 0, 0\n",
        "count = 0\n",
        "for i in range(21):\n",
        "  for j in range(51):\n",
        "    k = 100-5*i-2*j\n",
        "    if k >= 0:\n",
        "      count += 1\n",
        "print('count =', count)\n"
      ],
      "execution_count": null,
      "outputs": [
        {
          "output_type": "stream",
          "text": [
            "count = 541\n"
          ],
          "name": "stdout"
        }
      ]
    },
    {
      "cell_type": "code",
      "metadata": {
        "id": "zAp6mi5FC1Is",
        "colab": {
          "base_uri": "https://localhost:8080/",
          "height": 272
        },
        "outputId": "1b936efb-66d0-4ff9-de97-bee6c35f56c0"
      },
      "source": [
        "def hanoi(a,b,c,n):\n",
        "  if n==1:\n",
        "    print(a,'->',c)\n",
        "  else:\n",
        "    hanoi(a,c,b,n-1)\n",
        "    print(a,'->',c)\n",
        "    hanoi(b,a,c,n-1)\n",
        "\n",
        "hanoi('a','b','c',4)"
      ],
      "execution_count": null,
      "outputs": [
        {
          "output_type": "stream",
          "text": [
            "a -> b\n",
            "a -> c\n",
            "b -> c\n",
            "a -> b\n",
            "c -> a\n",
            "c -> b\n",
            "a -> b\n",
            "a -> c\n",
            "b -> c\n",
            "b -> a\n",
            "c -> a\n",
            "b -> c\n",
            "a -> b\n",
            "a -> c\n",
            "b -> c\n"
          ],
          "name": "stdout"
        }
      ]
    },
    {
      "cell_type": "code",
      "metadata": {
        "id": "9Tn7jDk9ej4d",
        "colab": {
          "base_uri": "https://localhost:8080/",
          "height": 34
        },
        "outputId": "69529856-4c51-464a-f7ef-4a9ef2a08d26"
      },
      "source": [
        "def f1(a, b):\n",
        "  if b == 1:\n",
        "    return a\n",
        "  else:\n",
        "    return a+f1(a, b-1)\n",
        "f1(3,5)"
      ],
      "execution_count": null,
      "outputs": [
        {
          "output_type": "execute_result",
          "data": {
            "text/plain": [
              "15"
            ]
          },
          "metadata": {
            "tags": []
          },
          "execution_count": 5
        }
      ]
    },
    {
      "cell_type": "code",
      "metadata": {
        "id": "rme_k0TKepIf"
      },
      "source": [
        "from nltk import word_tokenize\n",
        "from nltk import Text"
      ],
      "execution_count": null,
      "outputs": []
    },
    {
      "cell_type": "code",
      "metadata": {
        "id": "RmfCOorOeyCa"
      },
      "source": [
        "tokens = word_tokenize(\"HELLO WORLD!\")\n",
        "text = Text(tokens)"
      ],
      "execution_count": null,
      "outputs": []
    },
    {
      "cell_type": "code",
      "metadata": {
        "id": "1LjPmc0lZUKR",
        "colab": {
          "base_uri": "https://localhost:8080/",
          "height": 51
        },
        "outputId": "9a74c53f-1835-46c8-e33d-9484a6b2118d"
      },
      "source": [
        "def power(num, x=1):\n",
        "  result = 1\n",
        "  for i in range(x):\n",
        "    result = result * num\n",
        "  return result\n",
        "print(power(2))\n",
        "print(power(2,3))"
      ],
      "execution_count": null,
      "outputs": [
        {
          "output_type": "stream",
          "text": [
            "2\n",
            "8\n"
          ],
          "name": "stdout"
        }
      ]
    },
    {
      "cell_type": "code",
      "metadata": {
        "id": "fR-jL4GQMTwf"
      },
      "source": [
        ""
      ],
      "execution_count": null,
      "outputs": []
    },
    {
      "cell_type": "markdown",
      "metadata": {
        "id": "C1NSpBDJWcBW"
      },
      "source": [
        ""
      ]
    }
  ]
}